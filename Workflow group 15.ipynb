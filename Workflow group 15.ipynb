{
  "nbformat": 4,
  "nbformat_minor": 0,
  "metadata": {
    "colab": {
      "name": "Workflow.ipynb",
      "provenance": [],
      "collapsed_sections": [],
      "toc_visible": true
    },
    "kernelspec": {
      "name": "python3",
      "display_name": "Python 3"
    },
    "language_info": {
      "name": "python"
    }
  },
  "cells": [
    {
      "cell_type": "markdown",
      "metadata": {
        "id": "_jhBYpxmxxs1"
      },
      "source": [
        "# Tools Setup "
      ]
    },
    {
      "cell_type": "code",
      "metadata": {
        "colab": {
          "base_uri": "https://localhost:8080/"
        },
        "id": "HwacoOlsxPrM",
        "outputId": "dcecd5f1-6419-4249-bd79-02c7b32fb3ba"
      },
      "source": [
        "!pip install keras-tuner\n",
        "import sklearn\n",
        "import numpy as np\n",
        "import pandas as pd\n",
        "import matplotlib.pyplot as plt\n",
        "\n",
        "from sklearn import svm\n",
        "from sklearn.linear_model import LinearRegression\n",
        "from sklearn.model_selection import train_test_split\n",
        "from sklearn.model_selection import RandomizedSearchCV\n",
        "from sklearn.model_selection import GridSearchCV\n",
        "from kerastuner.tuners import RandomSearch\n",
        "from sklearn.mixture import GaussianMixture\n",
        "\n",
        "from sklearn.metrics import mean_squared_error\n",
        "from sklearn.metrics import make_scorer\n",
        "from sklearn.utils import shuffle\n",
        "from sklearn.preprocessing import MinMaxScaler\n",
        "\n",
        "# Importing the Keras libraries and packages\n",
        "import tensorflow as tf\n",
        "import kerastuner as kt\n",
        "from tensorflow import keras\n",
        "from tensorflow.keras.models import Sequential\n",
        "from tensorflow.keras.layers import Dense\n",
        "from tensorflow.keras.layers import LSTM\n",
        "from tensorflow.keras.layers import Dropout"
      ],
      "execution_count": null,
      "outputs": [
        {
          "output_type": "stream",
          "text": [
            "Collecting keras-tuner\n",
            "\u001b[?25l  Downloading https://files.pythonhosted.org/packages/20/ec/1ef246787174b1e2bb591c95f29d3c1310070cad877824f907faba3dade9/keras-tuner-1.0.2.tar.gz (62kB)\n",
            "\r\u001b[K     |█████▏                          | 10kB 13.9MB/s eta 0:00:01\r\u001b[K     |██████████▍                     | 20kB 20.2MB/s eta 0:00:01\r\u001b[K     |███████████████▋                | 30kB 24.6MB/s eta 0:00:01\r\u001b[K     |████████████████████▉           | 40kB 26.9MB/s eta 0:00:01\r\u001b[K     |██████████████████████████      | 51kB 28.8MB/s eta 0:00:01\r\u001b[K     |███████████████████████████████▎| 61kB 22.6MB/s eta 0:00:01\r\u001b[K     |████████████████████████████████| 71kB 6.4MB/s \n",
            "\u001b[?25hRequirement already satisfied: packaging in /usr/local/lib/python3.7/dist-packages (from keras-tuner) (20.9)\n",
            "Requirement already satisfied: future in /usr/local/lib/python3.7/dist-packages (from keras-tuner) (0.16.0)\n",
            "Requirement already satisfied: numpy in /usr/local/lib/python3.7/dist-packages (from keras-tuner) (1.19.5)\n",
            "Requirement already satisfied: tabulate in /usr/local/lib/python3.7/dist-packages (from keras-tuner) (0.8.9)\n",
            "Collecting terminaltables\n",
            "  Downloading https://files.pythonhosted.org/packages/9b/c4/4a21174f32f8a7e1104798c445dacdc1d4df86f2f26722767034e4de4bff/terminaltables-3.1.0.tar.gz\n",
            "Collecting colorama\n",
            "  Downloading https://files.pythonhosted.org/packages/44/98/5b86278fbbf250d239ae0ecb724f8572af1c91f4a11edf4d36a206189440/colorama-0.4.4-py2.py3-none-any.whl\n",
            "Requirement already satisfied: tqdm in /usr/local/lib/python3.7/dist-packages (from keras-tuner) (4.41.1)\n",
            "Requirement already satisfied: requests in /usr/local/lib/python3.7/dist-packages (from keras-tuner) (2.23.0)\n",
            "Requirement already satisfied: scipy in /usr/local/lib/python3.7/dist-packages (from keras-tuner) (1.4.1)\n",
            "Requirement already satisfied: scikit-learn in /usr/local/lib/python3.7/dist-packages (from keras-tuner) (0.22.2.post1)\n",
            "Requirement already satisfied: pyparsing>=2.0.2 in /usr/local/lib/python3.7/dist-packages (from packaging->keras-tuner) (2.4.7)\n",
            "Requirement already satisfied: idna<3,>=2.5 in /usr/local/lib/python3.7/dist-packages (from requests->keras-tuner) (2.10)\n",
            "Requirement already satisfied: urllib3!=1.25.0,!=1.25.1,<1.26,>=1.21.1 in /usr/local/lib/python3.7/dist-packages (from requests->keras-tuner) (1.24.3)\n",
            "Requirement already satisfied: certifi>=2017.4.17 in /usr/local/lib/python3.7/dist-packages (from requests->keras-tuner) (2020.12.5)\n",
            "Requirement already satisfied: chardet<4,>=3.0.2 in /usr/local/lib/python3.7/dist-packages (from requests->keras-tuner) (3.0.4)\n",
            "Requirement already satisfied: joblib>=0.11 in /usr/local/lib/python3.7/dist-packages (from scikit-learn->keras-tuner) (1.0.1)\n",
            "Building wheels for collected packages: keras-tuner, terminaltables\n",
            "  Building wheel for keras-tuner (setup.py) ... \u001b[?25l\u001b[?25hdone\n",
            "  Created wheel for keras-tuner: filename=keras_tuner-1.0.2-cp37-none-any.whl size=78938 sha256=9e0a9a1aa2af1db576d8ed7e335fa48dc7b847c8170e70276e1b1151c4d7b36a\n",
            "  Stored in directory: /root/.cache/pip/wheels/bb/a1/8a/7c3de0efb3707a1701b36ebbfdbc4e67aedf6d4943a1f463d6\n",
            "  Building wheel for terminaltables (setup.py) ... \u001b[?25l\u001b[?25hdone\n",
            "  Created wheel for terminaltables: filename=terminaltables-3.1.0-cp37-none-any.whl size=15356 sha256=9ebd57169cf53374b1958c914a094a148adb180c20de50e10c978844ff8015b0\n",
            "  Stored in directory: /root/.cache/pip/wheels/30/6b/50/6c75775b681fb36cdfac7f19799888ef9d8813aff9e379663e\n",
            "Successfully built keras-tuner terminaltables\n",
            "Installing collected packages: terminaltables, colorama, keras-tuner\n",
            "Successfully installed colorama-0.4.4 keras-tuner-1.0.2 terminaltables-3.1.0\n"
          ],
          "name": "stdout"
        }
      ]
    },
    {
      "cell_type": "markdown",
      "metadata": {
        "id": "CIeFXsXuyaj-"
      },
      "source": [
        "# Data import and Exploration of the features and the targets\n",
        "and visualization to have a first impression of how to work on them to extract the needed columns, and if and where are the missing values"
      ]
    },
    {
      "cell_type": "code",
      "metadata": {
        "id": "Z160JbIQxwY3"
      },
      "source": [
        "train = pd.read_csv('train.csv')\n",
        "test = pd.read_csv('test.csv')\n"
      ],
      "execution_count": null,
      "outputs": []
    },
    {
      "cell_type": "code",
      "metadata": {
        "colab": {
          "base_uri": "https://localhost:8080/",
          "height": 265
        },
        "id": "9XWVgIvpyZVT",
        "outputId": "a57edc51-f6ff-4e0e-a170-4ab9b0edad60"
      },
      "source": [
        "plt.show(plt.plot(train))"
      ],
      "execution_count": null,
      "outputs": [
        {
          "output_type": "display_data",
          "data": {
            "image/png": "[encoded data removed]",
            "text/plain": [
              "<Figure size 432x288 with 1 Axes>"
            ]
          },
          "metadata": {
            "tags": [],
            "needs_background": "light"
          }
        }
      ]
    },
    {
      "cell_type": "code",
      "metadata": {
        "colab": {
          "base_uri": "https://localhost:8080/",
          "height": 265
        },
        "id": "jDMZh2YjymOT",
        "outputId": "efe2358f-c873-4aae-eb14-4a6a866b0069"
      },
      "source": [
        "plt.show(plt.plot(test))"
      ],
      "execution_count": null,
      "outputs": [
        {
          "output_type": "display_data",
          "data": {
            "image/png": "[encoded data removed]",
            "text/plain": [
              "<Figure size 432x288 with 1 Axes>"
            ]
          },
          "metadata": {
            "tags": [],
            "needs_background": "light"
          }
        }
      ]
    },
    {
      "cell_type": "markdown",
      "metadata": {
        "id": "4nqReraWyuIL"
      },
      "source": [
        "Both the training and the test set have data points (plotted on the x axis) that span different ranges.\n",
        "We can better visualize it with a box plot: Data points with index greater than 7000 have a different mean - a Higher one - and a lower variance.\n",
        "\n",
        "The same happens in the test set\n",
        "\n",
        "So next thing we do is creating a function to extract these values to separate the data in two dataset. The idea was to train different models for the two clusters of data points.\n",
        "\n",
        "A way to obtain this cluster would be to project in a 2D space the time series Mean/variance, then use a clustering algorithm, but since the decision boundary is pretty easy to determinate, we don't need to use k-means or gaussian mixture.\n",
        "\n",
        "We just plot mean and variance in a 2D space "
      ]
    },
    {
      "cell_type": "code",
      "metadata": {
        "colab": {
          "base_uri": "https://localhost:8080/",
          "height": 279
        },
        "id": "I94DsodTyn5s",
        "outputId": "32df2bd5-23dc-4f7a-f9d4-9c5c88e8c5df"
      },
      "source": [
        "def scatter_mean_variance(train):\n",
        "  if 'y' in train.columns:\n",
        "    train = train.drop(columns=['y'])\n",
        "  n = train.shape[0]\n",
        "  mu_sigma = np.zeros((n,2))\n",
        "  score = np.zeros(n)\n",
        "  for i in range(n):\n",
        "    mean = np.mean(train.iloc[i])\n",
        "    var = np.var(train.iloc[i])\n",
        "    mu_sigma[i][0] = mean\n",
        "    mu_sigma[i][1] = var\n",
        "    score[i] = ( mean / var )**2\n",
        "\n",
        "  plt.scatter(mu_sigma[:,0],mu_sigma[:,1],alpha=0.1)\n",
        "  a = GaussianMixture(n_components=4, random_state=0).fit(mu_sigma).means_\n",
        "  plt.scatter(a[:,0], a[:,1], c = 'lime')\n",
        "  plt.plot([0.8,0.8],[-0.02,0.40], color = 'r')\n",
        "  plt.plot([-0.8,1.28],[0.04,0.04], color = 'r')\n",
        "  plt.xlabel('mean')\n",
        "  plt.ylabel('Var')\n",
        "\n",
        "  return mu_sigma\n",
        "\n",
        "a = scatter_mean_variance(test)"
      ],
      "execution_count": null,
      "outputs": [
        {
          "output_type": "display_data",
          "data": {
            "image/png": "[encoded data removed]",
            "text/plain": [
              "<Figure size 432x288 with 1 Axes>"
            ]
          },
          "metadata": {
            "tags": [],
            "needs_background": "light"
          }
        }
      ]
    },
    {
      "cell_type": "markdown",
      "metadata": {
        "id": "tyqYDmFT0Tjr"
      },
      "source": [
        "the input 'a' for the gaussian micxture is returned by the function scatter mean variance, it is a 2D array of mean and varaince of each series"
      ]
    },
    {
      "cell_type": "code",
      "metadata": {
        "id": "QDa2lnfJyzrD"
      },
      "source": [
        "gm = GaussianMixture(n_components=4, random_state=0).fit(a)\n",
        "means = gm.means_"
      ],
      "execution_count": null,
      "outputs": []
    },
    {
      "cell_type": "markdown",
      "metadata": {
        "id": "meuQlnK5y3Y3"
      },
      "source": [
        "It is evident that there are 4 probability distribution generating the data, Gaussian Mixture Model could provide us an estimate of the parameter of these distributions. We have tries to implement it but it lead to poor prediction results, against our - probably naive - expecatations.\n",
        "\n",
        "So we go for a manual clustering"
      ]
    },
    {
      "cell_type": "markdown",
      "metadata": {
        "id": "kTeLqEgOzcoy"
      },
      "source": [
        "# Indicator Functions\n",
        "\n",
        "This Functions work as Indicator Functions for the two clusters that we have identified, the cutoff (decision boundary is mean > 0.8)"
      ]
    },
    {
      "cell_type": "code",
      "metadata": {
        "id": "LeZMqbk0zVgW"
      },
      "source": [
        "def Indicator_1(df):\n",
        "    df1 = df.copy()\n",
        "    df_means = df.mean(axis = 1)\n",
        "    for i in range(len(df_means)):\n",
        "        if df_means[i] < 0.8:\n",
        "            df1 = df1.drop([i])\n",
        "    return df1\n",
        "\n",
        "def Indicator_0(df):\n",
        "    df1 = df.copy()\n",
        "    df_means = df1.mean(axis = 1)\n",
        "    for i in range(len(df_means)):\n",
        "        if df_means[i] > 0.8:\n",
        "            df1 = df1.drop([i])\n",
        "    return df1"
      ],
      "execution_count": null,
      "outputs": []
    },
    {
      "cell_type": "markdown",
      "metadata": {
        "id": "y_F1dF5S1tjG"
      },
      "source": [
        "# SVR\n",
        "\n"
      ]
    },
    {
      "cell_type": "markdown",
      "metadata": {
        "id": "N_f__NtY18zq"
      },
      "source": [
        "## SVR training data"
      ]
    },
    {
      "cell_type": "code",
      "metadata": {
        "id": "8cYD6Zoh0bIE"
      },
      "source": [
        "train1 = Indicator_1(train)\n",
        "targets1 = train1['y']\n",
        "features1 = train1.drop(columns=['w','y'])\n",
        "\n",
        "X_train, X_test, y_train, y_test = train_test_split(\n",
        "    features1, targets1, test_size=0.25, random_state=1)"
      ],
      "execution_count": null,
      "outputs": []
    },
    {
      "cell_type": "markdown",
      "metadata": {
        "id": "pgOPJ5uk3idT"
      },
      "source": [
        "## SVR Fit"
      ]
    },
    {
      "cell_type": "code",
      "metadata": {
        "colab": {
          "base_uri": "https://localhost:8080/"
        },
        "id": "OywA-QSY0i5V",
        "outputId": "e4ddb483-f790-4e3c-a884-51b40f1fc697"
      },
      "source": [
        "reg = svm.SVR().fit(X_train, y_train)\n",
        "\n",
        "ypredtrain = (reg.predict(X_train))\n",
        "ypredtest = (reg.predict(X_test))\n",
        "\n",
        "print(\"Test: \", (mean_squared_error(y_test,ypredtest)))\n",
        "print(\"Train: \", (mean_squared_error(y_train,ypredtrain)))"
      ],
      "execution_count": null,
      "outputs": [
        {
          "output_type": "stream",
          "text": [
            "Test:  0.001581064127144317\n",
            "Train:  0.0014629836502230607\n"
          ],
          "name": "stdout"
        }
      ]
    },
    {
      "cell_type": "markdown",
      "metadata": {
        "id": "BM-nm3603d1D"
      },
      "source": [
        "## SVR Tuning Parameters"
      ]
    },
    {
      "cell_type": "code",
      "metadata": {
        "colab": {
          "base_uri": "https://localhost:8080/"
        },
        "id": "S4GlBY7Z3G1M",
        "outputId": "697d8c26-22ad-41ed-f6b8-35b5bcab5da1"
      },
      "source": [
        "scorer = make_scorer(mean_squared_error, greater_is_better=False)\n",
        "\n",
        "clf = RandomizedSearchCV(svm.SVR(kernel='rbf'), \n",
        "    {'C': [0.5,1,5,10,15,20],\n",
        "    'epsilon': [1e-4, 1e-3, 1e-2, 0.1, 0.15, 0.3, 0.45, 0.75, ],\n",
        "    'gamma': [1e-4, 1e-3, 0.01, 0.1, 0.2, 0.5, 0.6, 0.9]}, \n",
        "    cv=5, \n",
        "    return_train_score=False,\n",
        "    n_iter=50, \n",
        "    scoring=scorer)\n",
        "\n",
        "clf.fit(features1, targets1)\n",
        "best_10_i = clf.cv_results_['rank_test_score'] < 10      # print out the results of the randomized search\n",
        "np.array(clf.cv_results_['params'])[best_10_i]           # these are the best 10"
      ],
      "execution_count": null,
      "outputs": [
        {
          "output_type": "execute_result",
          "data": {
            "text/plain": [
              "array([{'gamma': 0.9, 'epsilon': 0.001, 'C': 0.5},\n",
              "       {'gamma': 0.6, 'epsilon': 0.0001, 'C': 0.5},\n",
              "       {'gamma': 0.5, 'epsilon': 0.0001, 'C': 5},\n",
              "       {'gamma': 0.6, 'epsilon': 0.0001, 'C': 1},\n",
              "       {'gamma': 0.01, 'epsilon': 0.001, 'C': 20},\n",
              "       {'gamma': 0.1, 'epsilon': 0.01, 'C': 5},\n",
              "       {'gamma': 0.2, 'epsilon': 0.001, 'C': 20},\n",
              "       {'gamma': 0.1, 'epsilon': 0.001, 'C': 10},\n",
              "       {'gamma': 0.1, 'epsilon': 0.0001, 'C': 20}], dtype=object)"
            ]
          },
          "metadata": {
            "tags": []
          },
          "execution_count": 69
        }
      ]
    },
    {
      "cell_type": "code",
      "metadata": {
        "colab": {
          "base_uri": "https://localhost:8080/"
        },
        "id": "GlI-AkK931VT",
        "outputId": "11de0dea-a6c2-47ab-8189-af62ae6377f8"
      },
      "source": [
        "clf = GridSearchCV(svm.SVR(kernel='rbf'), {\n",
        "    'C': [0.5,1,5,10,15,20],\n",
        "    'epsilon': [1e-4, 1e-3, 1e-2],\n",
        "    'gamma': [0.1, 0.2, 0.5, 0.6]\n",
        "}, cv=5, return_train_score=False, scoring=scorer)\n",
        "\n",
        "clf.fit(features1, targets1)\n",
        "best = clf.cv_results_['rank_test_score'] == 1\n",
        "np.array(clf.cv_results_['params'])[best] "
      ],
      "execution_count": null,
      "outputs": [
        {
          "output_type": "stream",
          "text": [
            "WARNING:tensorflow:Unresolved object in checkpoint: (root).optimizer.iter\n",
            "WARNING:tensorflow:Unresolved object in checkpoint: (root).optimizer.beta_1\n",
            "WARNING:tensorflow:Unresolved object in checkpoint: (root).optimizer.beta_2\n",
            "WARNING:tensorflow:Unresolved object in checkpoint: (root).optimizer.decay\n",
            "WARNING:tensorflow:Unresolved object in checkpoint: (root).optimizer.learning_rate\n",
            "WARNING:tensorflow:A checkpoint was restored (e.g. tf.train.Checkpoint.restore or tf.keras.Model.load_weights) but not all checkpointed values were used. See above for specific issues. Use expect_partial() on the load status object, e.g. tf.train.Checkpoint.restore(...).expect_partial(), to silence these warnings, or use assert_consumed() to make the check explicit. See https://www.tensorflow.org/guide/checkpoint#loading_mechanics for details.\n"
          ],
          "name": "stdout"
        },
        {
          "output_type": "execute_result",
          "data": {
            "text/plain": [
              "array([{'C': 10, 'epsilon': 0.001, 'gamma': 0.1}], dtype=object)"
            ]
          },
          "metadata": {
            "tags": []
          },
          "execution_count": 70
        }
      ]
    },
    {
      "cell_type": "code",
      "metadata": {
        "colab": {
          "base_uri": "https://localhost:8080/"
        },
        "id": "11jVT8_Y69oc",
        "outputId": "e64af11f-35e8-47bb-9aaa-7b849c22bed7"
      },
      "source": [
        "reg = svm.SVR(kernel = 'rbf', C = 10.0, epsilon= 0.001, gamma= 0.1 )\n",
        "reg = reg.fit(X_train, y_train)\n",
        "ypredtrain = (reg.predict(X_train))\n",
        "ypredtest = (reg.predict(X_test))\n",
        "print(\"Test: \", (mean_squared_error(y_test,ypredtest)))\n",
        "print(\"Train: \", (mean_squared_error(y_train,ypredtrain)))"
      ],
      "execution_count": null,
      "outputs": [
        {
          "output_type": "stream",
          "text": [
            "Test:  0.00011059505878122726\n",
            "Train:  2.4973925786370077e-05\n"
          ],
          "name": "stdout"
        }
      ]
    },
    {
      "cell_type": "markdown",
      "metadata": {
        "id": "TTc8Mm4e9rPn"
      },
      "source": [
        "which is better than pre-tuning"
      ]
    },
    {
      "cell_type": "code",
      "metadata": {
        "id": "rC1H2ImeJfvv"
      },
      "source": [
        "reg = reg.fit(features1, targets1)"
      ],
      "execution_count": null,
      "outputs": []
    },
    {
      "cell_type": "markdown",
      "metadata": {
        "id": "ASwe5HF796Yt"
      },
      "source": [
        "# LSTM Recurrent Neural Network"
      ]
    },
    {
      "cell_type": "markdown",
      "metadata": {
        "id": "IJVa31Hf-Aw4"
      },
      "source": [
        "## RNN Data\n",
        "\n",
        "We divide the dataset in a 70% Training, 15% validation and 15% test set\n"
      ]
    },
    {
      "cell_type": "code",
      "metadata": {
        "id": "WmHARp408nyf"
      },
      "source": [
        "train0 = Indicator_0(train)\n",
        "targets0 = train0['y']\n",
        "features0 = train0.drop(columns=['w','y'])\n",
        "\n",
        "X_train, X_test_val, y_train, y_test_val = train_test_split(\n",
        "    features0, targets0, test_size=0.3, random_state=1)\n",
        "\n",
        "X_test, X_val, y_test, y_val = train_test_split(\n",
        "    X_test_val, y_test_val, test_size=0.5, random_state=1)"
      ],
      "execution_count": null,
      "outputs": []
    },
    {
      "cell_type": "code",
      "metadata": {
        "id": "vsqa0vCaEgW8"
      },
      "source": [
        "X = features0.to_numpy().reshape(7000,50,1)\n",
        "y = targets0.to_numpy().reshape(7000,1,1)"
      ],
      "execution_count": null,
      "outputs": []
    },
    {
      "cell_type": "markdown",
      "metadata": {
        "id": "sXT5VnRwB0p8"
      },
      "source": [
        "\n",
        "## Reshape data \n",
        "we need to input arrays with three dimensions:- number of samples- timestamps- dimension of the observed variable (return is a real number)"
      ]
    },
    {
      "cell_type": "code",
      "metadata": {
        "id": "MIPzv4MxB16y"
      },
      "source": [
        "X_train = X_train.to_numpy().reshape(X_train.shape[0],50,1)\n",
        "X_test = X_test.to_numpy().reshape(X_test.shape[0],50,1)\n",
        "X_val = X_val.to_numpy().reshape(X_val.shape[0],50,1)"
      ],
      "execution_count": null,
      "outputs": []
    },
    {
      "cell_type": "markdown",
      "metadata": {
        "id": "vDiQ3tfVCE0p"
      },
      "source": [
        "## To find number of Layers\n",
        "we create a function that will be taken as argument by a keras-tuner function that will esplore the performance of the network in the parameter space.\n",
        "it runs for a very long time though, in fact the choice of the parameter in the end is heuristic.\n",
        "we look at the best_val after a few iterations and try to input the best_val as the number of neurons\n",
        "and the learning rate of the optimizer"
      ]
    },
    {
      "cell_type": "code",
      "metadata": {
        "id": "T1GsXCxFB_79"
      },
      "source": [
        "def build_model(hp):\n",
        "    model = Sequential()\n",
        "    \n",
        "    model.add(LSTM(units=hp.Int('units1',\n",
        "                                        min_value=80,\n",
        "                                        max_value=130,\n",
        "                                        step=10),\n",
        "                           return_sequences = True, input_shape = (X_train.shape[1], 1)))\n",
        "    \n",
        "    model.add(LSTM(units=hp.Int('units2',\n",
        "                                        min_value=80,\n",
        "                                        max_value=130,\n",
        "                                        step=10),\n",
        "                           #return_sequences = True\n",
        "                   ))\n",
        "\n",
        "    model.add(Dense(units = 1))\n",
        "    model.compile(\n",
        "        optimizer=keras.optimizers.Adam(\n",
        "            hp.Choice('learning_rate',\n",
        "                      values=[ 1e-2, 1e-3])),\n",
        "        loss='mean_squared_error',\n",
        "        metrics=['mean_squared_error'])\n",
        "    return model"
      ],
      "execution_count": null,
      "outputs": []
    },
    {
      "cell_type": "code",
      "metadata": {
        "colab": {
          "base_uri": "https://localhost:8080/"
        },
        "id": "I8UCdrbHEYUh",
        "outputId": "652240fc-ad7f-4306-fe4d-a587f2073807"
      },
      "source": [
        "tuner = kt.Hyperband(\n",
        "    build_model,\n",
        "    objective='val_mean_squared_error',\n",
        "    max_epochs=50,\n",
        "    hyperband_iterations=2,\n",
        "    directory='Megasus4')\n",
        "\n",
        "tuner.search_space_summary()"
      ],
      "execution_count": null,
      "outputs": [
        {
          "output_type": "stream",
          "text": [
            "Search space summary\n",
            "Default search space size: 3\n",
            "units1 (Int)\n",
            "{'default': None, 'conditions': [], 'min_value': 80, 'max_value': 120, 'step': 10, 'sampling': None}\n",
            "units2 (Int)\n",
            "{'default': None, 'conditions': [], 'min_value': 80, 'max_value': 120, 'step': 10, 'sampling': None}\n",
            "learning_rate (Choice)\n",
            "{'default': 0.01, 'conditions': [], 'values': [0.01, 0.001], 'ordered': True}\n"
          ],
          "name": "stdout"
        }
      ]
    },
    {
      "cell_type": "markdown",
      "metadata": {
        "id": "qwHOTW0wRaYO"
      },
      "source": [
        "Running this cell may take a while, depending on the number of parameters that are set to vary, to obtain a 0.0160 result it ran for 50 minutes. I expect that if th kernel isn't interrupted by some system failure we can tune parameters way better"
      ]
    },
    {
      "cell_type": "code",
      "metadata": {
        "colab": {
          "base_uri": "https://localhost:8080/"
        },
        "id": "C_c_9UlBGvcX",
        "outputId": "32086d84-0f3a-4cdc-d1c3-a8f4cff01846"
      },
      "source": [
        "stop_early = tf.keras.callbacks.EarlyStopping(monitor='val_loss', patience=8)\n",
        "tuner.search(X_train,\n",
        "             y_train,\n",
        "             epochs=80,\n",
        "             validation_data = (X_val,y_val), \n",
        "             callbacks=[stop_early]\n",
        "             )"
      ],
      "execution_count": null,
      "outputs": [
        {
          "output_type": "stream",
          "text": [
            "Trial 61 Complete [00h 01m 02s]\n",
            "val_mean_squared_error: 0.022521112114191055\n",
            "\n",
            "Best val_mean_squared_error So Far: 0.018283991143107414\n",
            "Total elapsed time: 00h 48m 24s\n",
            "INFO:tensorflow:Oracle triggered exit\n"
          ],
          "name": "stdout"
        }
      ]
    },
    {
      "cell_type": "code",
      "metadata": {
        "id": "Zsh8-MZzG5lu"
      },
      "source": [
        "best = tuner.get_best_models(num_models=1)[0]"
      ],
      "execution_count": null,
      "outputs": []
    },
    {
      "cell_type": "code",
      "metadata": {
        "colab": {
          "base_uri": "https://localhost:8080/"
        },
        "id": "nU0-5ScACIlm",
        "outputId": "545ac0b2-87de-416c-aaf1-9dc0a24f7da4"
      },
      "source": [
        "best.get_config()"
      ],
      "execution_count": null,
      "outputs": [
        {
          "output_type": "execute_result",
          "data": {
            "text/plain": [
              "{'layers': [{'class_name': 'InputLayer',\n",
              "   'config': {'batch_input_shape': (None, 50, 1),\n",
              "    'dtype': 'float32',\n",
              "    'name': 'lstm_input',\n",
              "    'ragged': False,\n",
              "    'sparse': False}},\n",
              "  {'class_name': 'LSTM',\n",
              "   'config': {'activation': 'tanh',\n",
              "    'activity_regularizer': None,\n",
              "    'batch_input_shape': (None, 50, 1),\n",
              "    'bias_constraint': None,\n",
              "    'bias_initializer': {'class_name': 'Zeros', 'config': {}},\n",
              "    'bias_regularizer': None,\n",
              "    'dropout': 0.0,\n",
              "    'dtype': 'float32',\n",
              "    'go_backwards': False,\n",
              "    'implementation': 2,\n",
              "    'kernel_constraint': None,\n",
              "    'kernel_initializer': {'class_name': 'GlorotUniform',\n",
              "     'config': {'seed': None}},\n",
              "    'kernel_regularizer': None,\n",
              "    'name': 'lstm',\n",
              "    'recurrent_activation': 'sigmoid',\n",
              "    'recurrent_constraint': None,\n",
              "    'recurrent_dropout': 0.0,\n",
              "    'recurrent_initializer': {'class_name': 'Orthogonal',\n",
              "     'config': {'gain': 1.0, 'seed': None}},\n",
              "    'recurrent_regularizer': None,\n",
              "    'return_sequences': True,\n",
              "    'return_state': False,\n",
              "    'stateful': False,\n",
              "    'time_major': False,\n",
              "    'trainable': True,\n",
              "    'unit_forget_bias': True,\n",
              "    'units': 120,\n",
              "    'unroll': False,\n",
              "    'use_bias': True}},\n",
              "  {'class_name': 'LSTM',\n",
              "   'config': {'activation': 'tanh',\n",
              "    'activity_regularizer': None,\n",
              "    'bias_constraint': None,\n",
              "    'bias_initializer': {'class_name': 'Zeros', 'config': {}},\n",
              "    'bias_regularizer': None,\n",
              "    'dropout': 0.0,\n",
              "    'dtype': 'float32',\n",
              "    'go_backwards': False,\n",
              "    'implementation': 2,\n",
              "    'kernel_constraint': None,\n",
              "    'kernel_initializer': {'class_name': 'GlorotUniform',\n",
              "     'config': {'seed': None}},\n",
              "    'kernel_regularizer': None,\n",
              "    'name': 'lstm_1',\n",
              "    'recurrent_activation': 'sigmoid',\n",
              "    'recurrent_constraint': None,\n",
              "    'recurrent_dropout': 0.0,\n",
              "    'recurrent_initializer': {'class_name': 'Orthogonal',\n",
              "     'config': {'gain': 1.0, 'seed': None}},\n",
              "    'recurrent_regularizer': None,\n",
              "    'return_sequences': False,\n",
              "    'return_state': False,\n",
              "    'stateful': False,\n",
              "    'time_major': False,\n",
              "    'trainable': True,\n",
              "    'unit_forget_bias': True,\n",
              "    'units': 100,\n",
              "    'unroll': False,\n",
              "    'use_bias': True}},\n",
              "  {'class_name': 'Dense',\n",
              "   'config': {'activation': 'linear',\n",
              "    'activity_regularizer': None,\n",
              "    'bias_constraint': None,\n",
              "    'bias_initializer': {'class_name': 'Zeros', 'config': {}},\n",
              "    'bias_regularizer': None,\n",
              "    'dtype': 'float32',\n",
              "    'kernel_constraint': None,\n",
              "    'kernel_initializer': {'class_name': 'GlorotUniform',\n",
              "     'config': {'seed': None}},\n",
              "    'kernel_regularizer': None,\n",
              "    'name': 'dense',\n",
              "    'trainable': True,\n",
              "    'units': 1,\n",
              "    'use_bias': True}}],\n",
              " 'name': 'sequential'}"
            ]
          },
          "metadata": {
            "tags": []
          },
          "execution_count": 34
        }
      ]
    },
    {
      "cell_type": "markdown",
      "metadata": {
        "id": "xz05SA7AJAa6"
      },
      "source": [
        "## Tuned Model\n",
        "We pick the best values we have seen so far, compile the model and fit it"
      ]
    },
    {
      "cell_type": "code",
      "metadata": {
        "colab": {
          "base_uri": "https://localhost:8080/"
        },
        "id": "ATWlMHCgCUaK",
        "outputId": "692312e6-08f6-4c2c-f549-a5d47137bb1c"
      },
      "source": [
        "#120 , 100 , 0.001 --> 0.0160 / 0.01583 best\n",
        "regressor = Sequential()\n",
        "regressor.add(LSTM(units = 120, return_sequences = True, input_shape = (X_train.shape[1], 1)))\n",
        "regressor.add(Dropout(0.2))\n",
        "regressor.add(LSTM(units = 100))\n",
        "regressor.add(Dropout(0.2))\n",
        "\n",
        "regressor.add(Dense(units = 1))\n",
        "regressor.compile(\n",
        "    optimizer = keras.optimizers.Adam(learning_rate=0.001), #sensitivity \n",
        "    loss = 'mean_squared_error')\n",
        "regressor.fit(X_train, y_train, validation_data=(X_val,y_val), epochs = 150, batch_size = 32)"
      ],
      "execution_count": null,
      "outputs": [
        {
          "output_type": "stream",
          "text": [
            "Epoch 1/150\n",
            "154/154 [==============================] - 14s 73ms/step - loss: 0.2107 - val_loss: 0.0558\n",
            "Epoch 2/150\n",
            "154/154 [==============================] - 12s 76ms/step - loss: 0.0593 - val_loss: 0.0413\n",
            "Epoch 3/150\n",
            "154/154 [==============================] - 12s 77ms/step - loss: 0.0435 - val_loss: 0.0326\n",
            "Epoch 4/150\n",
            "154/154 [==============================] - 12s 80ms/step - loss: 0.0345 - val_loss: 0.0250\n",
            "Epoch 5/150\n",
            "154/154 [==============================] - 12s 79ms/step - loss: 0.0324 - val_loss: 0.0291\n",
            "Epoch 6/150\n",
            "154/154 [==============================] - 12s 79ms/step - loss: 0.0319 - val_loss: 0.0292\n",
            "Epoch 7/150\n",
            "154/154 [==============================] - 12s 79ms/step - loss: 0.0324 - val_loss: 0.0254\n",
            "Epoch 8/150\n",
            "154/154 [==============================] - 12s 79ms/step - loss: 0.0299 - val_loss: 0.0246\n",
            "Epoch 9/150\n",
            "154/154 [==============================] - 12s 79ms/step - loss: 0.0303 - val_loss: 0.0240\n",
            "Epoch 10/150\n",
            "154/154 [==============================] - 12s 78ms/step - loss: 0.0312 - val_loss: 0.0272\n",
            "Epoch 11/150\n",
            "154/154 [==============================] - 12s 77ms/step - loss: 0.0308 - val_loss: 0.0248\n",
            "Epoch 12/150\n",
            "154/154 [==============================] - 12s 80ms/step - loss: 0.0305 - val_loss: 0.0255\n",
            "Epoch 13/150\n",
            "154/154 [==============================] - 12s 78ms/step - loss: 0.0302 - val_loss: 0.0248\n",
            "Epoch 14/150\n",
            "154/154 [==============================] - 12s 77ms/step - loss: 0.0325 - val_loss: 0.0239\n",
            "Epoch 15/150\n",
            "154/154 [==============================] - 12s 76ms/step - loss: 0.0299 - val_loss: 0.0244\n",
            "Epoch 16/150\n",
            "154/154 [==============================] - 12s 77ms/step - loss: 0.0304 - val_loss: 0.0244\n",
            "Epoch 17/150\n",
            "154/154 [==============================] - 12s 76ms/step - loss: 0.0297 - val_loss: 0.0236\n",
            "Epoch 18/150\n",
            "154/154 [==============================] - 12s 79ms/step - loss: 0.0276 - val_loss: 0.0244\n",
            "Epoch 19/150\n",
            "154/154 [==============================] - 12s 80ms/step - loss: 0.0298 - val_loss: 0.0271\n",
            "Epoch 20/150\n",
            "154/154 [==============================] - 12s 80ms/step - loss: 0.0296 - val_loss: 0.0240\n",
            "Epoch 21/150\n",
            "154/154 [==============================] - 12s 77ms/step - loss: 0.0289 - val_loss: 0.0238\n",
            "Epoch 22/150\n",
            "154/154 [==============================] - 12s 78ms/step - loss: 0.0292 - val_loss: 0.0280\n",
            "Epoch 23/150\n",
            "154/154 [==============================] - 12s 78ms/step - loss: 0.0299 - val_loss: 0.0254\n",
            "Epoch 24/150\n",
            "154/154 [==============================] - 12s 78ms/step - loss: 0.0299 - val_loss: 0.0238\n",
            "Epoch 25/150\n",
            "154/154 [==============================] - 12s 77ms/step - loss: 0.0291 - val_loss: 0.0241\n",
            "Epoch 26/150\n",
            "154/154 [==============================] - 12s 78ms/step - loss: 0.0282 - val_loss: 0.0227\n",
            "Epoch 27/150\n",
            "154/154 [==============================] - 12s 77ms/step - loss: 0.0275 - val_loss: 0.0230\n",
            "Epoch 28/150\n",
            "154/154 [==============================] - 12s 78ms/step - loss: 0.0292 - val_loss: 0.0223\n",
            "Epoch 29/150\n",
            "154/154 [==============================] - 12s 80ms/step - loss: 0.0279 - val_loss: 0.0226\n",
            "Epoch 30/150\n",
            "154/154 [==============================] - 12s 79ms/step - loss: 0.0259 - val_loss: 0.0230\n",
            "Epoch 31/150\n",
            "154/154 [==============================] - 12s 78ms/step - loss: 0.0276 - val_loss: 0.0221\n",
            "Epoch 32/150\n",
            "154/154 [==============================] - 12s 79ms/step - loss: 0.0284 - val_loss: 0.0247\n",
            "Epoch 33/150\n",
            "154/154 [==============================] - 12s 79ms/step - loss: 0.0268 - val_loss: 0.0278\n",
            "Epoch 34/150\n",
            "154/154 [==============================] - 12s 77ms/step - loss: 0.0276 - val_loss: 0.0260\n",
            "Epoch 35/150\n",
            "154/154 [==============================] - 12s 79ms/step - loss: 0.0268 - val_loss: 0.0230\n",
            "Epoch 36/150\n",
            "154/154 [==============================] - 12s 77ms/step - loss: 0.0271 - val_loss: 0.0238\n",
            "Epoch 37/150\n",
            "154/154 [==============================] - 12s 78ms/step - loss: 0.0267 - val_loss: 0.0216\n",
            "Epoch 38/150\n",
            "154/154 [==============================] - 12s 79ms/step - loss: 0.0256 - val_loss: 0.0262\n",
            "Epoch 39/150\n",
            "154/154 [==============================] - 15s 96ms/step - loss: 0.0267 - val_loss: 0.0220\n",
            "Epoch 40/150\n",
            "154/154 [==============================] - 12s 78ms/step - loss: 0.0254 - val_loss: 0.0223\n",
            "Epoch 41/150\n",
            "154/154 [==============================] - 12s 77ms/step - loss: 0.0264 - val_loss: 0.0226\n",
            "Epoch 42/150\n",
            "154/154 [==============================] - 12s 79ms/step - loss: 0.0259 - val_loss: 0.0224\n",
            "Epoch 43/150\n",
            "154/154 [==============================] - 12s 78ms/step - loss: 0.0255 - val_loss: 0.0215\n",
            "Epoch 44/150\n",
            "154/154 [==============================] - 12s 78ms/step - loss: 0.0250 - val_loss: 0.0230\n",
            "Epoch 45/150\n",
            "154/154 [==============================] - 13s 81ms/step - loss: 0.0264 - val_loss: 0.0198\n",
            "Epoch 46/150\n",
            "154/154 [==============================] - 12s 81ms/step - loss: 0.0252 - val_loss: 0.0279\n",
            "Epoch 47/150\n",
            "154/154 [==============================] - 12s 81ms/step - loss: 0.0266 - val_loss: 0.0199\n",
            "Epoch 48/150\n",
            "154/154 [==============================] - 12s 79ms/step - loss: 0.0244 - val_loss: 0.0222\n",
            "Epoch 49/150\n",
            "154/154 [==============================] - 12s 79ms/step - loss: 0.0252 - val_loss: 0.0194\n",
            "Epoch 50/150\n",
            "154/154 [==============================] - 12s 80ms/step - loss: 0.0235 - val_loss: 0.0192\n",
            "Epoch 51/150\n",
            "154/154 [==============================] - 12s 78ms/step - loss: 0.0235 - val_loss: 0.0189\n",
            "Epoch 52/150\n",
            "154/154 [==============================] - 12s 79ms/step - loss: 0.0249 - val_loss: 0.0195\n",
            "Epoch 53/150\n",
            "154/154 [==============================] - 13s 82ms/step - loss: 0.0237 - val_loss: 0.0180\n",
            "Epoch 54/150\n",
            "154/154 [==============================] - 12s 80ms/step - loss: 0.0234 - val_loss: 0.0223\n",
            "Epoch 55/150\n",
            "154/154 [==============================] - 12s 80ms/step - loss: 0.0234 - val_loss: 0.0197\n",
            "Epoch 56/150\n",
            "154/154 [==============================] - 12s 80ms/step - loss: 0.0241 - val_loss: 0.0191\n",
            "Epoch 57/150\n",
            "154/154 [==============================] - 13s 81ms/step - loss: 0.0234 - val_loss: 0.0182\n",
            "Epoch 58/150\n",
            "154/154 [==============================] - 13s 83ms/step - loss: 0.0238 - val_loss: 0.0187\n",
            "Epoch 59/150\n",
            "154/154 [==============================] - 12s 81ms/step - loss: 0.0228 - val_loss: 0.0197\n",
            "Epoch 60/150\n",
            "154/154 [==============================] - 12s 80ms/step - loss: 0.0216 - val_loss: 0.0191\n",
            "Epoch 61/150\n",
            "154/154 [==============================] - 12s 78ms/step - loss: 0.0222 - val_loss: 0.0181\n",
            "Epoch 62/150\n",
            "154/154 [==============================] - 12s 81ms/step - loss: 0.0242 - val_loss: 0.0197\n",
            "Epoch 63/150\n",
            "154/154 [==============================] - 12s 80ms/step - loss: 0.0223 - val_loss: 0.0173\n",
            "Epoch 64/150\n",
            "154/154 [==============================] - 12s 81ms/step - loss: 0.0228 - val_loss: 0.0178\n",
            "Epoch 65/150\n",
            "154/154 [==============================] - 12s 80ms/step - loss: 0.0218 - val_loss: 0.0186\n",
            "Epoch 66/150\n",
            "154/154 [==============================] - 12s 80ms/step - loss: 0.0221 - val_loss: 0.0171\n",
            "Epoch 67/150\n",
            "154/154 [==============================] - 12s 81ms/step - loss: 0.0217 - val_loss: 0.0174\n",
            "Epoch 68/150\n",
            "154/154 [==============================] - 12s 81ms/step - loss: 0.0208 - val_loss: 0.0178\n",
            "Epoch 69/150\n",
            "154/154 [==============================] - 12s 79ms/step - loss: 0.0216 - val_loss: 0.0174\n",
            "Epoch 70/150\n",
            "154/154 [==============================] - 12s 79ms/step - loss: 0.0202 - val_loss: 0.0178\n",
            "Epoch 71/150\n",
            "154/154 [==============================] - 13s 85ms/step - loss: 0.0211 - val_loss: 0.0180\n",
            "Epoch 72/150\n",
            "154/154 [==============================] - 12s 81ms/step - loss: 0.0211 - val_loss: 0.0175\n",
            "Epoch 73/150\n",
            "154/154 [==============================] - 12s 79ms/step - loss: 0.0212 - val_loss: 0.0180\n",
            "Epoch 74/150\n",
            "154/154 [==============================] - 12s 79ms/step - loss: 0.0207 - val_loss: 0.0174\n",
            "Epoch 75/150\n",
            "154/154 [==============================] - 12s 78ms/step - loss: 0.0205 - val_loss: 0.0182\n",
            "Epoch 76/150\n",
            "154/154 [==============================] - 12s 77ms/step - loss: 0.0201 - val_loss: 0.0181\n",
            "Epoch 77/150\n",
            "154/154 [==============================] - 12s 78ms/step - loss: 0.0200 - val_loss: 0.0179\n",
            "Epoch 78/150\n",
            "154/154 [==============================] - 12s 81ms/step - loss: 0.0201 - val_loss: 0.0174\n",
            "Epoch 79/150\n",
            "154/154 [==============================] - 12s 78ms/step - loss: 0.0202 - val_loss: 0.0168\n",
            "Epoch 80/150\n",
            "154/154 [==============================] - 12s 78ms/step - loss: 0.0206 - val_loss: 0.0180\n",
            "Epoch 81/150\n",
            "154/154 [==============================] - 12s 78ms/step - loss: 0.0199 - val_loss: 0.0180\n",
            "Epoch 82/150\n",
            "154/154 [==============================] - 12s 79ms/step - loss: 0.0195 - val_loss: 0.0174\n",
            "Epoch 83/150\n",
            "154/154 [==============================] - 12s 79ms/step - loss: 0.0203 - val_loss: 0.0170\n",
            "Epoch 84/150\n",
            "154/154 [==============================] - 12s 78ms/step - loss: 0.0195 - val_loss: 0.0191\n",
            "Epoch 85/150\n",
            "154/154 [==============================] - 12s 79ms/step - loss: 0.0224 - val_loss: 0.0181\n",
            "Epoch 86/150\n",
            "154/154 [==============================] - 12s 78ms/step - loss: 0.0198 - val_loss: 0.0177\n",
            "Epoch 87/150\n",
            "154/154 [==============================] - 12s 80ms/step - loss: 0.0200 - val_loss: 0.0167\n",
            "Epoch 88/150\n",
            "154/154 [==============================] - 12s 80ms/step - loss: 0.0186 - val_loss: 0.0167\n",
            "Epoch 89/150\n",
            "154/154 [==============================] - 12s 79ms/step - loss: 0.0188 - val_loss: 0.0177\n",
            "Epoch 90/150\n",
            "154/154 [==============================] - 12s 80ms/step - loss: 0.0191 - val_loss: 0.0163\n",
            "Epoch 91/150\n",
            "154/154 [==============================] - 12s 80ms/step - loss: 0.0187 - val_loss: 0.0172\n",
            "Epoch 92/150\n",
            "154/154 [==============================] - 12s 79ms/step - loss: 0.0197 - val_loss: 0.0168\n",
            "Epoch 93/150\n",
            "154/154 [==============================] - 12s 80ms/step - loss: 0.0193 - val_loss: 0.0166\n",
            "Epoch 94/150\n",
            "154/154 [==============================] - 12s 79ms/step - loss: 0.0196 - val_loss: 0.0175\n",
            "Epoch 95/150\n",
            "154/154 [==============================] - 12s 79ms/step - loss: 0.0185 - val_loss: 0.0202\n",
            "Epoch 96/150\n",
            "154/154 [==============================] - 12s 81ms/step - loss: 0.0195 - val_loss: 0.0163\n",
            "Epoch 97/150\n",
            "154/154 [==============================] - 13s 82ms/step - loss: 0.0193 - val_loss: 0.0166\n",
            "Epoch 98/150\n",
            "154/154 [==============================] - 13s 84ms/step - loss: 0.0188 - val_loss: 0.0209\n",
            "Epoch 99/150\n",
            "154/154 [==============================] - 12s 81ms/step - loss: 0.0199 - val_loss: 0.0192\n",
            "Epoch 100/150\n",
            "154/154 [==============================] - 12s 79ms/step - loss: 0.0182 - val_loss: 0.0180\n",
            "Epoch 101/150\n",
            "154/154 [==============================] - 12s 80ms/step - loss: 0.0188 - val_loss: 0.0166\n",
            "Epoch 102/150\n",
            "154/154 [==============================] - 13s 81ms/step - loss: 0.0182 - val_loss: 0.0173\n",
            "Epoch 103/150\n",
            "154/154 [==============================] - 12s 79ms/step - loss: 0.0184 - val_loss: 0.0159\n",
            "Epoch 104/150\n",
            "154/154 [==============================] - 12s 80ms/step - loss: 0.0183 - val_loss: 0.0184\n",
            "Epoch 105/150\n",
            "154/154 [==============================] - 12s 80ms/step - loss: 0.0190 - val_loss: 0.0171\n",
            "Epoch 106/150\n",
            "154/154 [==============================] - 13s 82ms/step - loss: 0.0178 - val_loss: 0.0194\n",
            "Epoch 107/150\n",
            "154/154 [==============================] - 13s 82ms/step - loss: 0.0188 - val_loss: 0.0168\n",
            "Epoch 108/150\n",
            "154/154 [==============================] - 12s 81ms/step - loss: 0.0179 - val_loss: 0.0182\n",
            "Epoch 109/150\n",
            "154/154 [==============================] - 12s 78ms/step - loss: 0.0191 - val_loss: 0.0183\n",
            "Epoch 110/150\n",
            "154/154 [==============================] - 12s 78ms/step - loss: 0.0188 - val_loss: 0.0166\n",
            "Epoch 111/150\n",
            "154/154 [==============================] - 12s 79ms/step - loss: 0.0186 - val_loss: 0.0168\n",
            "Epoch 112/150\n",
            "154/154 [==============================] - 12s 80ms/step - loss: 0.0186 - val_loss: 0.0172\n",
            "Epoch 113/150\n",
            "154/154 [==============================] - 12s 79ms/step - loss: 0.0178 - val_loss: 0.0177\n",
            "Epoch 114/150\n",
            "154/154 [==============================] - 13s 82ms/step - loss: 0.0178 - val_loss: 0.0167\n",
            "Epoch 115/150\n",
            "154/154 [==============================] - 12s 81ms/step - loss: 0.0184 - val_loss: 0.0179\n",
            "Epoch 116/150\n",
            "154/154 [==============================] - 12s 80ms/step - loss: 0.0180 - val_loss: 0.0171\n",
            "Epoch 117/150\n",
            "154/154 [==============================] - 13s 82ms/step - loss: 0.0180 - val_loss: 0.0180\n",
            "Epoch 118/150\n",
            "154/154 [==============================] - 12s 81ms/step - loss: 0.0180 - val_loss: 0.0160\n",
            "Epoch 119/150\n",
            "154/154 [==============================] - 12s 80ms/step - loss: 0.0183 - val_loss: 0.0154\n",
            "Epoch 120/150\n",
            "154/154 [==============================] - 13s 82ms/step - loss: 0.0177 - val_loss: 0.0165\n",
            "Epoch 121/150\n",
            "154/154 [==============================] - 12s 81ms/step - loss: 0.0180 - val_loss: 0.0182\n",
            "Epoch 122/150\n",
            "154/154 [==============================] - 12s 80ms/step - loss: 0.0182 - val_loss: 0.0163\n",
            "Epoch 123/150\n",
            "154/154 [==============================] - 13s 84ms/step - loss: 0.0172 - val_loss: 0.0177\n",
            "Epoch 124/150\n",
            "154/154 [==============================] - 13s 82ms/step - loss: 0.0190 - val_loss: 0.0164\n",
            "Epoch 125/150\n",
            "154/154 [==============================] - 12s 81ms/step - loss: 0.0181 - val_loss: 0.0167\n",
            "Epoch 126/150\n",
            "154/154 [==============================] - 13s 82ms/step - loss: 0.0180 - val_loss: 0.0164\n",
            "Epoch 127/150\n",
            "154/154 [==============================] - 13s 82ms/step - loss: 0.0175 - val_loss: 0.0178\n",
            "Epoch 128/150\n",
            "154/154 [==============================] - 12s 80ms/step - loss: 0.0176 - val_loss: 0.0152\n",
            "Epoch 129/150\n",
            "154/154 [==============================] - 12s 79ms/step - loss: 0.0172 - val_loss: 0.0164\n",
            "Epoch 130/150\n",
            "154/154 [==============================] - 13s 83ms/step - loss: 0.0173 - val_loss: 0.0161\n",
            "Epoch 131/150\n",
            "154/154 [==============================] - 12s 81ms/step - loss: 0.0174 - val_loss: 0.0161\n",
            "Epoch 132/150\n",
            "154/154 [==============================] - 13s 83ms/step - loss: 0.0175 - val_loss: 0.0165\n",
            "Epoch 133/150\n",
            "154/154 [==============================] - 13s 82ms/step - loss: 0.0164 - val_loss: 0.0156\n",
            "Epoch 134/150\n",
            "154/154 [==============================] - 13s 82ms/step - loss: 0.0167 - val_loss: 0.0168\n",
            "Epoch 135/150\n",
            "154/154 [==============================] - 13s 81ms/step - loss: 0.0167 - val_loss: 0.0169\n",
            "Epoch 136/150\n",
            "154/154 [==============================] - 12s 81ms/step - loss: 0.0170 - val_loss: 0.0161\n",
            "Epoch 137/150\n",
            "154/154 [==============================] - 13s 81ms/step - loss: 0.0163 - val_loss: 0.0160\n",
            "Epoch 138/150\n",
            "154/154 [==============================] - 12s 80ms/step - loss: 0.0167 - val_loss: 0.0166\n",
            "Epoch 139/150\n",
            "154/154 [==============================] - 12s 80ms/step - loss: 0.0176 - val_loss: 0.0159\n",
            "Epoch 140/150\n",
            "154/154 [==============================] - 12s 79ms/step - loss: 0.0170 - val_loss: 0.0162\n",
            "Epoch 141/150\n",
            "154/154 [==============================] - 12s 81ms/step - loss: 0.0170 - val_loss: 0.0178\n",
            "Epoch 142/150\n",
            "154/154 [==============================] - 13s 82ms/step - loss: 0.0162 - val_loss: 0.0160\n",
            "Epoch 143/150\n",
            "154/154 [==============================] - 13s 81ms/step - loss: 0.0165 - val_loss: 0.0166\n",
            "Epoch 144/150\n",
            "154/154 [==============================] - 13s 82ms/step - loss: 0.0164 - val_loss: 0.0154\n",
            "Epoch 145/150\n",
            "154/154 [==============================] - 13s 82ms/step - loss: 0.0163 - val_loss: 0.0161\n",
            "Epoch 146/150\n",
            "154/154 [==============================] - 12s 81ms/step - loss: 0.0162 - val_loss: 0.0175\n",
            "Epoch 147/150\n",
            "154/154 [==============================] - 12s 79ms/step - loss: 0.0165 - val_loss: 0.0161\n",
            "Epoch 148/150\n",
            "154/154 [==============================] - 12s 80ms/step - loss: 0.0163 - val_loss: 0.0162\n",
            "Epoch 149/150\n",
            "154/154 [==============================] - 13s 83ms/step - loss: 0.0173 - val_loss: 0.0164\n",
            "Epoch 150/150\n",
            "154/154 [==============================] - 13s 81ms/step - loss: 0.0170 - val_loss: 0.0160\n"
          ],
          "name": "stdout"
        },
        {
          "output_type": "execute_result",
          "data": {
            "text/plain": [
              "<tensorflow.python.keras.callbacks.History at 0x7f967264c890>"
            ]
          },
          "metadata": {
            "tags": []
          },
          "execution_count": 105
        }
      ]
    },
    {
      "cell_type": "code",
      "metadata": {
        "colab": {
          "base_uri": "https://localhost:8080/"
        },
        "id": "AM1tD4VlJSzK",
        "outputId": "a1fffc00-dca0-4134-ee77-d692a1ed1166"
      },
      "source": [
        "pred = regressor.predict(X_test)\n",
        "print(mean_squared_error(pred,y_test))"
      ],
      "execution_count": null,
      "outputs": [
        {
          "output_type": "stream",
          "text": [
            "0.01546340171848506\n"
          ],
          "name": "stdout"
        }
      ]
    },
    {
      "cell_type": "markdown",
      "metadata": {
        "id": "DM59_ZAhJoQy"
      },
      "source": [
        "# Merge the Model Predictions"
      ]
    },
    {
      "cell_type": "code",
      "metadata": {
        "id": "y5xKcphZJuhI"
      },
      "source": [
        "def merge_prediction(model_1, model_2, test_data):\n",
        "\n",
        "  model_1_data = Indicator_0(test_data)\n",
        "  model_1_idx = model_1_data.index\n",
        "  model_2_data = Indicator_1(test_data)\n",
        "  model_2_idx = model_2_data.index\n",
        "  \n",
        "  m1_preds = model_1.predict(model_1_data.to_numpy().reshape(model_1_data.shape[0],50,1))\n",
        "  m2_preds = model_2.predict(model_2_data)\n",
        "\n",
        "  preds_merged = np.zeros(len(test_data))\n",
        "  preds_merged[model_1_idx] = m1_preds.reshape(m1_preds.shape[0])\n",
        "  preds_merged[model_2_idx] = m2_preds\n",
        "\n",
        "  return preds_merged\n",
        "\n",
        "sub = merge_prediction(regressor, reg, test)"
      ],
      "execution_count": null,
      "outputs": []
    },
    {
      "cell_type": "markdown",
      "metadata": {
        "id": "Pjz2POigKeKl"
      },
      "source": [
        "# Export the .txt file"
      ]
    },
    {
      "cell_type": "code",
      "metadata": {
        "id": "_xBmgBp9KXUO"
      },
      "source": [
        "np.savetxt('myfile.txt', sub)"
      ],
      "execution_count": null,
      "outputs": []
    },
    {
      "cell_type": "code",
      "metadata": {
        "id": "KK5CF0fr2QYb"
      },
      "source": [
        ""
      ],
      "execution_count": null,
      "outputs": []
    },
    {
      "cell_type": "code",
      "metadata": {
        "id": "TzBD1D83MsZV"
      },
      "source": [
        ""
      ],
      "execution_count": null,
      "outputs": []
    },
    {
      "cell_type": "code",
      "metadata": {
        "id": "vwNnY-9_8kbQ"
      },
      "source": [
        ""
      ],
      "execution_count": null,
      "outputs": []
    }
  ]
}